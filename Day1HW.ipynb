{
 "cells": [
  {
   "cell_type": "code",
   "execution_count": 1,
   "id": "fbb1d805",
   "metadata": {},
   "outputs": [],
   "source": [
    "import re"
   ]
  },
  {
   "cell_type": "code",
   "execution_count": 2,
   "id": "61903efa",
   "metadata": {},
   "outputs": [
    {
     "data": {
      "text/plain": [
       "'\\nExpected Output\\nAbraham Lincoln\\nAndrew P Garfield\\nConnor Milliken\\nJordan Alexander Williams\\nNone\\nNone\\n'"
      ]
     },
     "execution_count": 2,
     "metadata": {},
     "output_type": "execute_result"
    }
   ],
   "source": [
    "\"\"\"\n",
    "Expected Output\n",
    "Abraham Lincoln\n",
    "Andrew P Garfield\n",
    "Connor Milliken\n",
    "Jordan Alexander Williams\n",
    "None\n",
    "None\n",
    "\"\"\""
   ]
  },
  {
   "cell_type": "code",
   "execution_count": 3,
   "id": "4ec98e37",
   "metadata": {},
   "outputs": [
    {
     "name": "stdout",
     "output_type": "stream",
     "text": [
      "Abraham Lincoln\n",
      "Andrew P Garfield\n",
      "Connor Milliken\n",
      "Jordan Alexander Williams\n",
      "Madonna\n",
      "programming is cool\n",
      "\n"
     ]
    }
   ],
   "source": [
    "with open('regex_test.txt') as new_file:\n",
    "    str_data = new_file.read()\n",
    "print(str_data)"
   ]
  },
  {
   "cell_type": "code",
   "execution_count": 4,
   "id": "b7ff7a54",
   "metadata": {},
   "outputs": [
    {
     "name": "stdout",
     "output_type": "stream",
     "text": [
      "<re.Match object; span=(8, 15), match='Lincoln'>\n",
      "<re.Match object; span=(25, 33), match='Garfield'>\n",
      "<re.Match object; span=(41, 49), match='Milliken'>\n",
      "<re.Match object; span=(67, 75), match='Williams'>\n",
      "<re.Match object; span=(76, 83), match='Madonna'>\n"
     ]
    }
   ],
   "source": [
    "valid_name = re.compile('(?P<last>[A-Z][a-z]+)$', re.M)\n",
    "\n",
    "for match in valid_name.finditer(str_data):\n",
    "    print(match)"
   ]
  },
  {
   "cell_type": "code",
   "execution_count": 5,
   "id": "983969ae",
   "metadata": {},
   "outputs": [
    {
     "name": "stdout",
     "output_type": "stream",
     "text": [
      "['Lincoln', 'Garfield', 'Milliken', 'Williams', 'Madonna']\n"
     ]
    }
   ],
   "source": [
    "print(valid_name.findall(str_data))"
   ]
  }
 ],
 "metadata": {
  "kernelspec": {
   "display_name": "Python 3.9.13 64-bit",
   "language": "python",
   "name": "python3"
  },
  "language_info": {
   "codemirror_mode": {
    "name": "ipython",
    "version": 3
   },
   "file_extension": ".py",
   "mimetype": "text/x-python",
   "name": "python",
   "nbconvert_exporter": "python",
   "pygments_lexer": "ipython3",
   "version": "3.9.13"
  },
  "vscode": {
   "interpreter": {
    "hash": "829b5de4ab4fd1954ada4a5f2b22709021a5048cae9a1512fbbbf59543079bf0"
   }
  }
 },
 "nbformat": 4,
 "nbformat_minor": 5
}
