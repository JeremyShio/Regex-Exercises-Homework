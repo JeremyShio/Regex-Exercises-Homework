{
 "cells": [
  {
   "cell_type": "code",
   "execution_count": 5,
   "id": "fbb1d805",
   "metadata": {},
   "outputs": [],
   "source": [
    "import re"
   ]
  },
  {
   "cell_type": "code",
   "execution_count": 6,
   "id": "61903efa",
   "metadata": {},
   "outputs": [
    {
     "data": {
      "text/plain": [
       "'\\nExpected Output\\nAbraham Lincoln\\nAndrew P Garfield\\nConnor Milliken\\nJordan Alexander Williams\\nNone\\nNone\\n'"
      ]
     },
     "execution_count": 6,
     "metadata": {},
     "output_type": "execute_result"
    }
   ],
   "source": [
    "\"\"\"\n",
    "Expected Output\n",
    "Abraham Lincoln\n",
    "Andrew P Garfield\n",
    "Connor Milliken\n",
    "Jordan Alexander Williams\n",
    "None\n",
    "None\n",
    "\"\"\""
   ]
  },
  {
   "cell_type": "code",
   "execution_count": 7,
   "id": "4ec98e37",
   "metadata": {},
   "outputs": [
    {
     "name": "stdout",
     "output_type": "stream",
     "text": [
      "Abraham Lincoln\n",
      "Andrew P Garfield\n",
      "Connor Milliken\n",
      "Jordan Alexander Williams\n",
      "Madonna\n",
      "programming is cool\n",
      "\n"
     ]
    }
   ],
   "source": [
    "with open('regex_test.txt') as new_file:\n",
    "    str_data = new_file.read()\n",
    "print(str_data)"
   ]
  },
  {
   "cell_type": "code",
   "execution_count": 9,
   "id": "b7ff7a54",
   "metadata": {},
   "outputs": [
    {
     "name": "stdout",
     "output_type": "stream",
     "text": [
      "<re.Match object; span=(0, 15), match='Abraham Lincoln'>\n",
      "<re.Match object; span=(16, 33), match='Andrew P Garfield'>\n",
      "<re.Match object; span=(34, 49), match='Connor Milliken'>\n",
      "<re.Match object; span=(50, 75), match='Jordan Alexander Williams'>\n"
     ]
    }
   ],
   "source": [
    "valid_name = re.compile('(?P<first>^[A-Z][a-z]+) (?P<middle>[A-Z][a-z]* )?(?P<last>[A-Z][a-z]+)$', re.M)\n",
    "\n",
    "for match in valid_name.finditer(str_data):\n",
    "    print(match)"
   ]
  },
  {
   "cell_type": "code",
   "execution_count": 10,
   "id": "983969ae",
   "metadata": {},
   "outputs": [
    {
     "data": {
      "text/plain": [
       "[('Abraham', '', 'Lincoln'),\n",
       " ('Andrew', 'P ', 'Garfield'),\n",
       " ('Connor', '', 'Milliken'),\n",
       " ('Jordan', 'Alexander ', 'Williams')]"
      ]
     },
     "execution_count": 10,
     "metadata": {},
     "output_type": "execute_result"
    }
   ],
   "source": [
    "valid_name.findall(str_data)"
   ]
  },
  {
   "cell_type": "code",
   "execution_count": 12,
   "id": "94165c8a",
   "metadata": {},
   "outputs": [
    {
     "ename": "NameError",
     "evalue": "name 'list_data' is not defined",
     "output_type": "error",
     "traceback": [
      "\u001b[1;31m---------------------------------------------------------------------------\u001b[0m",
      "\u001b[1;31mNameError\u001b[0m                                 Traceback (most recent call last)",
      "Input \u001b[1;32mIn [12]\u001b[0m, in \u001b[0;36m<cell line: 1>\u001b[1;34m()\u001b[0m\n\u001b[1;32m----> 1\u001b[0m \u001b[38;5;28;01mfor\u001b[39;00m name \u001b[38;5;129;01min\u001b[39;00m \u001b[43mlist_data\u001b[49m:\n\u001b[0;32m      2\u001b[0m     \u001b[38;5;28;01mmatch\u001b[39;00m \u001b[38;5;241m-\u001b[39m valid_name\u001b[38;5;241m.\u001b[39mmatch(name)\n\u001b[0;32m      3\u001b[0m     \u001b[38;5;28;01mif\u001b[39;00m match:\n",
      "\u001b[1;31mNameError\u001b[0m: name 'list_data' is not defined"
     ]
    }
   ],
   "source": [
    "for name in list_data:\n",
    "    match = valid_name.match(name)\n",
    "    if match:\n",
    "        print(match.group('last'))\n",
    "    else:\n",
    "        print(None)"
   ]
  },
  {
   "cell_type": "code",
   "execution_count": 13,
   "id": "89e8a678",
   "metadata": {},
   "outputs": [],
   "source": [
    "def is_valid(name):\n",
    "    match = valid_name.match(name)\n",
    "    if match:\n",
    "        return match.group('last')\n",
    "    else:\n",
    "        return None\n",
    "    \n",
    "for name in list_data:\n",
    "    print(is_valid(name))"
   ]
  },
  {
   "cell_type": "code",
   "execution_count": null,
   "id": "2e9ed2f0",
   "metadata": {},
   "outputs": [],
   "source": [
    "names_pattern = re.compile(r\"\"\"\n",
    "^(?P<first_name>[A-Z][a-z])+,\\s+\n",
    "(?P<middle_name>[A-Z][a-z])*,\\s*\n",
    "(?P<last_name>[A-Z][a-z])+?$\n",
    "\"\"\", re.M|re.X)\n",
    "\n",
    "# doesn't work from regex101"
   ]
  },
  {
   "cell_type": "code",
   "execution_count": null,
   "id": "d742e2db",
   "metadata": {},
   "outputs": [],
   "source": [
    "for match in names_pattern.finditer(data):\n",
    "    print(match)\n",
    "    if match.group('last_name'):\n",
    "        print('='*100)\n",
    "        name = match.group('first_name', 'middle_name', 'last_name')\n",
    "        print(name)\n",
    "    else:\n",
    "        print('='*50)\n",
    "        print(\"None\")"
   ]
  }
 ],
 "metadata": {
  "kernelspec": {
   "display_name": "Python 3 (ipykernel)",
   "language": "python",
   "name": "python3"
  },
  "language_info": {
   "codemirror_mode": {
    "name": "ipython",
    "version": 3
   },
   "file_extension": ".py",
   "mimetype": "text/x-python",
   "name": "python",
   "nbconvert_exporter": "python",
   "pygments_lexer": "ipython3",
   "version": "3.9.12"
  }
 },
 "nbformat": 4,
 "nbformat_minor": 5
}
