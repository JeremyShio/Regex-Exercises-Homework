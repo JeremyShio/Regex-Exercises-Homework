{
 "cells": [
  {
   "cell_type": "markdown",
   "metadata": {},
   "source": [
    "# Regular Expressions"
   ]
  },
  {
   "cell_type": "markdown",
   "metadata": {},
   "source": [
    "# Tasks today:\n",
    "1) <b>Importing</b> <br>\n",
    "2) <b>Using Regular Expressions</b> <br>\n",
    " &nbsp;&nbsp;&nbsp;&nbsp; a) re.compile() <br>\n",
    " &nbsp;&nbsp;&nbsp;&nbsp; b) re.match() <br>\n",
    " &nbsp;&nbsp;&nbsp;&nbsp; c) re.findall() <br>\n",
    " &nbsp;&nbsp;&nbsp;&nbsp; d) re.search() <br>\n",
    "3) <b>Sets</b> <br>\n",
    " &nbsp;&nbsp;&nbsp;&nbsp; a) Integer Ranges <br>\n",
    " &nbsp;&nbsp;&nbsp;&nbsp; b) Character Ranges <br>\n",
    "4) <b>Counting Occurences</b> <br>\n",
    " &nbsp;&nbsp;&nbsp;&nbsp; a) {x} <br>\n",
    " &nbsp;&nbsp;&nbsp;&nbsp; b) {, x} <br>\n",
    " &nbsp;&nbsp;&nbsp;&nbsp; c) {?} <br>\n",
    " &nbsp;&nbsp;&nbsp;&nbsp; d) {*} <br>\n",
    " &nbsp;&nbsp;&nbsp;&nbsp; e) {+} <br>\n",
    "5) <b>In-Class Exercise #1</b> <br>\n",
    "6) <b>Escaping Characters</b> <br>\n",
    "7) <b>Grouping</b> <br>\n",
    "8) <b>In-Class Exercise #2</b> <br>\n",
    "9) <b>Opening a File</b> <br>\n",
    " &nbsp;&nbsp;&nbsp;&nbsp; a) open() <br>\n",
    " &nbsp;&nbsp;&nbsp;&nbsp; b) with open() <br>\n",
    " &nbsp;&nbsp;&nbsp;&nbsp; c) re.match() <br>\n",
    " &nbsp;&nbsp;&nbsp;&nbsp; d) re.search() <br>\n",
    " &nbsp;&nbsp;&nbsp;&nbsp; e) Store the String in a Variable <br>\n",
    "10) <b>Regex Project</b> <br>"
   ]
  },
  {
   "cell_type": "markdown",
   "metadata": {},
   "source": [
    "### Importing <br>\n",
    "<p>Regular Expressions are universal throughout most programming languages... They are generally imported through the module 're'.</p>"
   ]
  },
  {
   "cell_type": "code",
   "execution_count": 1,
   "metadata": {},
   "outputs": [],
   "source": [
    "# import re\n",
    "import re"
   ]
  },
  {
   "cell_type": "code",
   "execution_count": 2,
   "metadata": {},
   "outputs": [
    {
     "name": "stdout",
     "output_type": "stream",
     "text": [
      "<module 're' from 'C:\\\\Users\\\\Jerem\\\\anaconda3\\\\lib\\\\re.py'>\n"
     ]
    }
   ],
   "source": [
    "print(re)"
   ]
  },
  {
   "cell_type": "markdown",
   "metadata": {},
   "source": [
    "### Using Regular Expressions <br>\n",
    "<p>Regular expressions give us the ability to search for patterns within text, strings, files, etc. They serve several uses, such as; security measures, searching, filtering, pattern recognition, and more...</p>"
   ]
  },
  {
   "cell_type": "markdown",
   "metadata": {},
   "source": [
    "##### re.compile()"
   ]
  },
  {
   "cell_type": "code",
   "execution_count": null,
   "metadata": {},
   "outputs": [],
   "source": [
    "# using compile, predetermines the string to be used in regular expression methods\n",
    "pattern = re.compile('abcd')\n",
    "print(pattern)\n",
    "print(type(pattern))"
   ]
  },
  {
   "cell_type": "markdown",
   "metadata": {},
   "source": [
    "##### re.match()"
   ]
  },
  {
   "cell_type": "code",
   "execution_count": null,
   "metadata": {},
   "outputs": [],
   "source": [
    "help(pattern.match)"
   ]
  },
  {
   "cell_type": "code",
   "execution_count": null,
   "metadata": {},
   "outputs": [],
   "source": [
    "# Calling the match function from the Pattern object - returns a Match object if there is a match\n",
    "match = pattern.match('abcdefghijklmnop')\n",
    "print(match)"
   ]
  },
  {
   "cell_type": "code",
   "execution_count": null,
   "metadata": {},
   "outputs": [],
   "source": [
    "# Returns None if there is no match (Match starts at the BEGINNING of the string)\n",
    "no_match = pattern.match('zxyabcdefg')\n",
    "print(no_match)"
   ]
  },
  {
   "cell_type": "code",
   "execution_count": null,
   "metadata": {},
   "outputs": [],
   "source": [
    "# Calling the match function from the re module (as opposed to from the pattern object), pattern is first argument\n",
    "match_again = re.match('abcd', 'abcdefghij')\n",
    "print(match_again)"
   ]
  },
  {
   "cell_type": "code",
   "execution_count": null,
   "metadata": {},
   "outputs": [],
   "source": [
    "no_search = pattern.search('abcd, '123 avcd 123 321')\n",
    "print(no_search)"
   ]
  },
  {
   "cell_type": "markdown",
   "metadata": {},
   "source": [
    "##### re.findall()"
   ]
  },
  {
   "cell_type": "code",
   "execution_count": null,
   "metadata": {},
   "outputs": [],
   "source": [
    "help(pattern.findall)"
   ]
  },
  {
   "cell_type": "code",
   "execution_count": null,
   "metadata": {},
   "outputs": [],
   "source": [
    "# findall will return a list of ALL the matches in the string\n",
    "find = pattern.findall('123 123 abcd 123 dcba abcd')\n",
    "print(find)"
   ]
  },
  {
   "cell_type": "markdown",
   "metadata": {},
   "source": [
    "##### re.search()"
   ]
  },
  {
   "cell_type": "code",
   "execution_count": null,
   "metadata": {},
   "outputs": [],
   "source": [
    "help(pattern.search)"
   ]
  },
  {
   "cell_type": "code",
   "execution_count": null,
   "metadata": {},
   "outputs": [],
   "source": [
    "# Returns the first match that it finds when scanning through the string, returns none if no match found.\n",
    "search = pattern.search('123 123 abcd 123 dcba abcd')\n",
    "print(search)"
   ]
  },
  {
   "cell_type": "markdown",
   "metadata": {},
   "source": [
    "### Sets <br>\n",
    "<p>The following cells will allow you to use regular expressions to search for certain values within a range such as numbers 1 through 4.</p>"
   ]
  },
  {
   "cell_type": "markdown",
   "metadata": {},
   "source": [
    "##### [a-z] or [A-Z] - any lowercase/uppercase letters from a to z<br/>[^2] - anything that's not 2"
   ]
  },
  {
   "cell_type": "markdown",
   "metadata": {},
   "source": [
    "##### Integer Ranges"
   ]
  },
  {
   "cell_type": "code",
   "execution_count": null,
   "metadata": {},
   "outputs": [],
   "source": [
    "pattern_int = re.compile('[0-5][5-9]')\n",
    "my_number_matches = pattern_int.findall('678543587043154765765')\n",
    "print(my_number_matches)"
   ]
  },
  {
   "cell_type": "code",
   "execution_count": null,
   "metadata": {},
   "outputs": [],
   "source": [
    "# ^ within a set means that it is anything but whatever is in the set\n",
    "pattern_not_two = re.compile('[^2]')\n",
    "not_two = pattern_not_two.findall('51235098123764')\n",
    "print(not_two)"
   ]
  },
  {
   "cell_type": "markdown",
   "metadata": {},
   "source": [
    "##### Character Ranges"
   ]
  },
  {
   "cell_type": "code",
   "execution_count": null,
   "metadata": {},
   "outputs": [],
   "source": [
    "# Pattern is 2 characters a capital letter followed by a lowercase\n",
    "char_pattern = re.compile('[A-Z][a-z]')\n",
    "\n",
    "found = char_pattern.findall('Hello there Mr. Anderson')\n",
    "\n",
    "print(found)"
   ]
  },
  {
   "cell_type": "code",
   "execution_count": null,
   "metadata": {},
   "outputs": [],
   "source": [
    "# Range of all upper and lowercase letters (Uppercase first in range)\n",
    "all_alphabet = re.compile('[A-z]')\n",
    "\n",
    "letters = all_alphabet.findall('Hello I am 50 years old and live at 123 Real Street, San Diego, CA')\n",
    "\n",
    "print(letters)"
   ]
  },
  {
   "cell_type": "code",
   "execution_count": null,
   "metadata": {},
   "outputs": [],
   "source": [
    "# ^ in a set means everything but these characters\n",
    "non_vowels = re.compile('[^aeiouAEIOU]')\n",
    "\n",
    "fixed_troll = non_vowels.findall('This website stinks, LOL! ')\n",
    "\n",
    "print(''.join(fixed_troll))"
   ]
  },
  {
   "cell_type": "code",
   "execution_count": null,
   "metadata": {},
   "outputs": [],
   "source": [
    "'-'.join(fixed_troll)"
   ]
  },
  {
   "cell_type": "markdown",
   "metadata": {},
   "source": [
    "### Counting Occurences"
   ]
  },
  {
   "cell_type": "markdown",
   "metadata": {},
   "source": [
    "##### {x} - something that occurs {num_of_times}"
   ]
  },
  {
   "cell_type": "code",
   "execution_count": null,
   "metadata": {},
   "outputs": [],
   "source": [
    "my_addresses = '555 Circle Drive, Chicago, IL 60606; 444 Square Rd. Chicago, IL 40404'\n",
    "\n",
    "# pattern is looking for a number in the range of 0-9 that occurs exactly 5 times\n",
    "zip_code_pattern = re.compile('[0-9]{5}')\n",
    "\n",
    "zip_codes = zip_code_pattern.findall(my_addresses)\n",
    "\n",
    "print(zip_codes)"
   ]
  },
  {
   "cell_type": "markdown",
   "metadata": {},
   "source": [
    "##### {x, y} - something that occurs between x and x times"
   ]
  },
  {
   "cell_type": "code",
   "execution_count": null,
   "metadata": {},
   "outputs": [],
   "source": [
    "my_new_addresses = '555 Circle Drive Apt 1, Chicago, IL 60606-2345'\n",
    "\n",
    "# Pattern is looking for a 0-9 digit that occurs between 3 and 5 times (Will try to do the most aka 5 if possible)\n",
    "three_to_five = re.compile('[0-9]{3,5}')\n",
    "\n",
    "found_nums = three_to_five.findall(my_new_addresses)\n",
    "\n",
    "print(found_nums)"
   ]
  },
  {
   "cell_type": "markdown",
   "metadata": {},
   "source": [
    "##### ? - something that occurs 0 or 1 time"
   ]
  },
  {
   "cell_type": "code",
   "execution_count": null,
   "metadata": {},
   "outputs": [],
   "source": [
    "my_pattern = re.compile('Mr?s?') # Mrs, Mr, Ms, M\n",
    "\n",
    "found_pattern = my_pattern.findall('Hello Mr. and Mrssssssss. Anderson. Have you seen Ms. Smith? My favorite letter is M')\n",
    "\n",
    "print(found_pattern)"
   ]
  },
  {
   "cell_type": "markdown",
   "metadata": {},
   "source": [
    "##### * - something that occurs at least 0 times"
   ]
  },
  {
   "cell_type": "code",
   "execution_count": null,
   "metadata": {},
   "outputs": [],
   "source": [
    "new_pattern = re.compile('Mr*s*') # Mr{0, infinity}s{0, infinity} min of 0, max of as many as possible\n",
    "\n",
    "found_pattern = new_pattern.findall('Hello Mr. and Mrssssssss. Anderson. Have you seen Ms. Smith? My favorite letter is M')\n",
    "\n",
    "print(found_pattern)"
   ]
  },
  {
   "cell_type": "markdown",
   "metadata": {},
   "source": [
    "##### + - something that occurs at least once"
   ]
  },
  {
   "cell_type": "code",
   "execution_count": null,
   "metadata": {},
   "outputs": [],
   "source": [
    "my_pattern = re.compile('Mr+s+')\n",
    "\n",
    "found_pattern = my_pattern.findall('Hello Mssssssssss. and Mrssssssss. Anderson. Have you seen Ms. Smith? My favorite letter is M')\n",
    "\n",
    "print(found_pattern)"
   ]
  },
  {
   "cell_type": "markdown",
   "metadata": {},
   "source": [
    "##### In-class exercise 1: \n",
    "\n",
    "Use a regular expression to find every number in the given string"
   ]
  },
  {
   "cell_type": "code",
   "execution_count": null,
   "metadata": {},
   "outputs": [],
   "source": [
    "my_string = \"This string has 10909090 numbers, but it is only 1 string. I hope you solve this 2day.\"\n",
    "\n",
    "my_pattern = re.compile('[0-9]+')\n",
    "\n",
    "found_pattern = my_pattern.findall(my_string)\n",
    "\n",
    "print(found_pattern)\n",
    "\n",
    "# Output: ['10909090','1',2]"
   ]
  },
  {
   "cell_type": "code",
   "execution_count": null,
   "metadata": {},
   "outputs": [],
   "source": [
    "my_question = 'How do I find the question mark?????????'\n",
    "\n",
    "re.search('\\?', my_question)"
   ]
  },
  {
   "cell_type": "markdown",
   "metadata": {},
   "source": [
    "### Escaping Characters"
   ]
  },
  {
   "cell_type": "markdown",
   "metadata": {},
   "source": [
    "##### \\w - look for any Unicode character<br/>\\W - look for anything that isnt a Unicode character\n",
    "\n",
    "[History on Unicode](http://unicode.org/standard/WhatIsUnicode.html)\n",
    "\n",
    "[More on Unicode Characters](https://en.wikipedia.org/wiki/List_of_Unicode_characters)"
   ]
  },
  {
   "cell_type": "code",
   "execution_count": null,
   "metadata": {},
   "outputs": [],
   "source": [
    "sentence = 'This is a sentence. with an, exclamation mark at the end! \\n first_name 123-456'\n",
    "\n",
    "letter_pattern = re.compile('\\w') # [a-zA-Z0-9_]\n",
    "\n",
    "letters = letter_pattern.findall(sentence)\n",
    "\n",
    "print(letters)"
   ]
  },
  {
   "cell_type": "code",
   "execution_count": null,
   "metadata": {},
   "outputs": [],
   "source": [
    "sentence = 'This is a sentence. with an, exclamation mark at the end! \\n first_name 123-456'\n",
    "\n",
    "word_pattern = re.compile('\\w+') # Find characters that add up to words\n",
    "\n",
    "words = word_pattern.findall(sentence)\n",
    "\n",
    "print(words)"
   ]
  },
  {
   "cell_type": "code",
   "execution_count": null,
   "metadata": {},
   "outputs": [],
   "source": [
    "sentence = 'This is a sentence. with an, exclamation mark at the end! \\n first_name 123-456'\n",
    "\n",
    "letter_pattern = re.compile('[\\W]') # [^a-zA-Z0-9_]\n",
    "\n",
    "letters = letter_pattern.findall(sentence)\n",
    "\n",
    "print(letters)"
   ]
  },
  {
   "cell_type": "markdown",
   "metadata": {},
   "source": [
    "##### \\d - look for any digit 0-9<br/>\\D - look for anything that isnt a digit"
   ]
  },
  {
   "cell_type": "code",
   "execution_count": null,
   "metadata": {},
   "outputs": [],
   "source": [
    "some_string = 'Hello it is 2:27PM on 8/1/22'\n",
    "\n",
    "digit_pat = re.compile('\\d') #'[0-9]'\n",
    "\n",
    "digits = digit_pat.findall(some_string)\n",
    "\n",
    "print(digits)"
   ]
  },
  {
   "cell_type": "code",
   "execution_count": null,
   "metadata": {},
   "outputs": [],
   "source": [
    "some_string = 'Hello it is 2:27PM on 8/1/22'\n",
    "\n",
    "digit_pat = re.compile('\\d+') #'[0-9]'\n",
    "\n",
    "digits = digit_pat.findall(some_string)\n",
    "\n",
    "print(digits)"
   ]
  },
  {
   "cell_type": "code",
   "execution_count": null,
   "metadata": {},
   "outputs": [],
   "source": [
    "non_digit_pat = re.compile('\\D') # '[^0-9]'\n",
    "\n",
    "non_digits = non_digit_pat.findall(some_string)\n",
    "\n",
    "print(non_digits)"
   ]
  },
  {
   "cell_type": "markdown",
   "metadata": {},
   "source": [
    "##### \\s - look for any white space<br/>\\S - look for anything that isnt whitespace"
   ]
  },
  {
   "cell_type": "code",
   "execution_count": null,
   "metadata": {},
   "outputs": [],
   "source": [
    "sentence = 'This is a sentence.\\t with an, exclamation mark at the end! \\n first_name \\t123-456'\n",
    "\n",
    "print(sentence)"
   ]
  },
  {
   "cell_type": "code",
   "execution_count": null,
   "metadata": {},
   "outputs": [],
   "source": [
    "space_pattern = re.compile('\\s') # '[ \\n\\t\\r\\f\\v]'\n",
    "\n",
    "print(space_pattern.findall(sentence))"
   ]
  },
  {
   "cell_type": "code",
   "execution_count": null,
   "metadata": {},
   "outputs": [],
   "source": [
    "non_space_pattern = re.compile('\\S') # '[^ \\n\\t\\r\\f\\v]'\n",
    "\n",
    "print(non_space_pattern.findall(sentence))"
   ]
  },
  {
   "cell_type": "markdown",
   "metadata": {},
   "source": [
    "##### \\b - look for boundaries or edges of a word<br/>\\B - look for anything that isnt a boundary"
   ]
  },
  {
   "cell_type": "code",
   "execution_count": null,
   "metadata": {},
   "outputs": [],
   "source": [
    "rhyme = \"The cat know how to scat.\"\n",
    "\n",
    "pattern_boundary = re.compile(r'\\bcat\\b')\n",
    "\n",
    "pattern_boundary.findall(rhyme)"
   ]
  },
  {
   "cell_type": "code",
   "execution_count": null,
   "metadata": {},
   "outputs": [],
   "source": [
    "non_boundary = re.compile('\\Bcat\\B')\n",
    "\n",
    "rhyme_again = 'The cats knows how to scats'\n",
    "\n",
    "non_boundary.search(rhyme_again)"
   ]
  },
  {
   "cell_type": "code",
   "execution_count": null,
   "metadata": {},
   "outputs": [],
   "source": [
    "certain_characters = re.compile('[bsmduf]')\n",
    "\n",
    "certain_characters.findall('')"
   ]
  },
  {
   "cell_type": "markdown",
   "metadata": {},
   "source": [
    "### Grouping"
   ]
  },
  {
   "cell_type": "code",
   "execution_count": null,
   "metadata": {},
   "outputs": [],
   "source": [
    "my_string_again = \"Max Smith, aaron rodgers, Sam Darnold,LeBron James, Micheal Jordan, Kevin Durant, Patrick McCormick\"\n",
    "\n",
    "# Group of names Regular Expression Compiler\n",
    "# [A-Za-z] means all letters A to Z (uppercase) and a to z (lowercase) '+' means showing up one or more times\n",
    "# A single upppercase letter followed by at least one but up to many upper OR lowercase letter\n",
    "name_pattern = re.compile('[A-z][a-zA-Z]+ [A-Z][a-zA-Z]+')\n",
    "\n",
    "names = name_pattern.findall(my_string_again)\n",
    "\n",
    "print(names)\n",
    "\n",
    "for name in names:\n",
    "    print(name, type(name))"
   ]
  },
  {
   "cell_type": "code",
   "execution_count": null,
   "metadata": {},
   "outputs": [],
   "source": [
    "my_string_again = \"Max Smith, aaron rodgers, Sam Darnold,LeBron James, Micheal Jordan, Kevin Durant, Patrick McCormick\"\n",
    "\n",
    "# Group of names Regular Expression Compiler\n",
    "name_pattern = re.compile('([A-z][a-zA-Z]+) ([A-Z][a-zA-Z]+)')\n",
    "\n",
    "names = name_pattern.findall(my_string_again)\n",
    "\n",
    "print(names)\n",
    "\n",
    "for name in names:\n",
    "    print(name, type(name))"
   ]
  },
  {
   "cell_type": "code",
   "execution_count": null,
   "metadata": {},
   "outputs": [],
   "source": [
    "my_string_again = \"Max Smith, aaron rodgers, Sam Darnold,LeBron James, Micheal Jordan, Kevin Durant, Patrick McCormick\"\n",
    "\n",
    "# Group of names Regular Expression Compiler\n",
    "# [A-Za-z] means all letters A to Z (uppercase) and a to z (lowercase) '+' means showing up one or more times\n",
    "# A single upppercase letter followed by at least one but up to many upper OR lowercase letter\n",
    "name_pattern = re.compile('?P<first>[A-z][a-zA-Z]+ ?P<last>[A-Z][a-zA-Z]+')\n",
    "\n",
    "names = name_pattern.findall(my_string_again)\n",
    "\n",
    "print(names)\n",
    "\n",
    "for name in names:\n",
    "    print(name, type(name))"
   ]
  },
  {
   "cell_type": "code",
   "execution_count": null,
   "metadata": {},
   "outputs": [],
   "source": [
    "my_match = name_pattern.match(my_string_again)\n",
    "print(my_match)\n",
    "print(my_match.group(1))"
   ]
  },
  {
   "cell_type": "code",
   "execution_count": null,
   "metadata": {},
   "outputs": [],
   "source": [
    "help(my_match.group)"
   ]
  },
  {
   "cell_type": "markdown",
   "metadata": {},
   "source": [
    "##### In-class Exercise 2:\n",
    "\n",
    "Write a function using regular expressions to find the domain name in the given email addresses (and return None for the invalid email addresses)<br><b>HINT: Use '|' for either or</b>"
   ]
  },
  {
   "cell_type": "code",
   "execution_count": null,
   "metadata": {},
   "outputs": [],
   "source": [
    "# You can also use the $ at the end of your compile expression -- this stops the search\n",
    "\n",
    "my_emails = [\"jordanw@codingtemple.orgcom\", \"pocohontas1776@gmail.com\", \"helloworld@aol..com\",\n",
    "             \"yourfavoriteband@g6.org\", \"@codingtemple.com\"]\n",
    "\n",
    "# search = re.search(r'[A-Za-z0-9._-]+@[A-Za-z0-9._-]+.[a-z]{3}$')\n",
    "# search = re.search (r'[\\w.-]+@[\\w.-]+.[a-z]{3}')\n",
    "\n",
    "def valid_email(email):\n",
    "    valid_email_pattern = re.compile('[\\w.-]+@[\\w]+.[a-z]{3}$')\n",
    "    search = valid_email_pattern.search(email)\n",
    "    if search:\n",
    "        return email\n",
    "    \n",
    "for e in my_emails:\n",
    "    print(valid_email(e))\n",
    "\n",
    "#Expected output:\n",
    "#None\n",
    "#pocohontas1776@gmail.com\n",
    "#None\n",
    "#yourfavoriteband@g6.org\n",
    "#None"
   ]
  },
  {
   "cell_type": "markdown",
   "metadata": {},
   "source": [
    "### Opening a File <br>\n",
    "<p>Python gives us a couple ways to import files, below are the two used most often.</p>"
   ]
  },
  {
   "cell_type": "markdown",
   "metadata": {},
   "source": [
    "##### open()"
   ]
  },
  {
   "cell_type": "code",
   "execution_count": null,
   "metadata": {
    "scrolled": true
   },
   "outputs": [],
   "source": [
    "help(open)"
   ]
  },
  {
   "cell_type": "code",
   "execution_count": null,
   "metadata": {},
   "outputs": [],
   "source": [
    "file = open('names.txt')\n",
    "\n",
    "print(file)\n",
    "\n",
    "file"
   ]
  },
  {
   "cell_type": "code",
   "execution_count": null,
   "metadata": {},
   "outputs": [],
   "source": [
    "data = file.read()\n",
    "\n",
    "print(data)"
   ]
  },
  {
   "cell_type": "code",
   "execution_count": null,
   "metadata": {},
   "outputs": [],
   "source": [
    "data"
   ]
  },
  {
   "cell_type": "code",
   "execution_count": null,
   "metadata": {},
   "outputs": [],
   "source": [
    "file.close()"
   ]
  },
  {
   "cell_type": "code",
   "execution_count": null,
   "metadata": {},
   "outputs": [],
   "source": [
    "file.read()"
   ]
  },
  {
   "cell_type": "markdown",
   "metadata": {},
   "source": [
    "##### with open()"
   ]
  },
  {
   "cell_type": "code",
   "execution_count": null,
   "metadata": {},
   "outputs": [],
   "source": [
    "with open('names.txt') as new_file:\n",
    "    data = new_file.read()\n",
    "    print(data)"
   ]
  },
  {
   "cell_type": "code",
   "execution_count": null,
   "metadata": {},
   "outputs": [],
   "source": [
    "print(type(data2))"
   ]
  },
  {
   "cell_type": "markdown",
   "metadata": {},
   "source": [
    "##### re.match()"
   ]
  },
  {
   "cell_type": "code",
   "execution_count": null,
   "metadata": {},
   "outputs": [],
   "source": [
    "re.match('\\w+', data)"
   ]
  },
  {
   "cell_type": "markdown",
   "metadata": {},
   "source": [
    "##### re.search()"
   ]
  },
  {
   "cell_type": "code",
   "execution_count": null,
   "metadata": {},
   "outputs": [],
   "source": [
    "re.search('Stanton', data)"
   ]
  },
  {
   "cell_type": "code",
   "execution_count": null,
   "metadata": {},
   "outputs": [],
   "source": [
    "data[90:97]"
   ]
  },
  {
   "cell_type": "code",
   "execution_count": null,
   "metadata": {},
   "outputs": [],
   "source": [
    "x.span()"
   ]
  },
  {
   "cell_type": "markdown",
   "metadata": {},
   "source": [
    "##### Store the String to a Variable"
   ]
  },
  {
   "cell_type": "code",
   "execution_count": null,
   "metadata": {},
   "outputs": [],
   "source": [
    "answer = input(\"For what would you like to search? \")\n",
    "\n",
    "found = re.search(answer, data)\n",
    "\n",
    "if found:\n",
    "    span_tuple = found.span()\n",
    "    print(f\"I found {answer} in the data from index {span_tuple[0]} to {span_tuple[1]}\")\n",
    "else:\n",
    "    print(f\"{answer} not in data\")"
   ]
  },
  {
   "cell_type": "markdown",
   "metadata": {},
   "source": [
    "### In-Class Exercise #3 <br>\n",
    "<p>Print each persons name and twitter handle, using groups, should look like:</p>\n",
    "<p>==============<br>\n",
    "   Full Name / Twitter<br>\n",
    "   ==============</p>\n",
    "Derek Hawkins / @derekhawkins\n",
    "\n",
    " Erik Sven-Osterberg / @sverik\n",
    "\n",
    " Ryan Butz / @ryanbutz\n",
    "\n",
    " Example Exampleson / @example\n",
    "\n",
    " Ripal Pael / @ripalp\n",
    "\n",
    " Darth Vader / @darthvader"
   ]
  },
  {
   "cell_type": "code",
   "execution_count": null,
   "metadata": {
    "scrolled": true
   },
   "outputs": [],
   "source": [
    "names_pattern = re.compile(r\"\"\"\n",
    "    ^(?P<name>[A-Za-z\\s]*,\\s[A-Za-z\\s-]+)\\s      # The name of our person: Last, First *all have name match\n",
    "    (?P<email>[\\w+-]+@[\\w.]+)\\s                  # Email of our person: Something@something.com *all have email match\n",
    "    (?P<phone>\\(?\\d{3}\\)?[-\\s]\\d{3}-\\d{4})?\\s    # Phone number: (XXX) XXX-XXXX\n",
    "    (?P<title>[A-Za-z\\s]+,\\s[A-Za-z\\s.]+)\\s*     # Title: Position, Company Name\n",
    "    (?P<twitter>@\\w+)?$                          # Twitter handle: @Twittername *not all have Twitter\n",
    "\"\"\", re.M|re.X)"
   ]
  },
  {
   "cell_type": "code",
   "execution_count": null,
   "metadata": {},
   "outputs": [],
   "source": [
    "my_match = names_pattern.match(data)\n",
    "\n",
    "print(my_match.group('twitter'))"
   ]
  },
  {
   "cell_type": "code",
   "execution_count": null,
   "metadata": {},
   "outputs": [],
   "source": [
    "for match in names_pattern.finditer(data):\n",
    "    print(match)\n",
    "    if match.group('twitter'):\n",
    "        print('='*50)\n",
    "        name = match.group('name')\n",
    "        first_name = name.split(', ')[1]\n",
    "        last_name = name.split(', ')[0]\n",
    "        \n",
    "        print(f\"{first_name} {last_name} \\ {match.group('twitter')}\")"
   ]
  },
  {
   "cell_type": "markdown",
   "metadata": {},
   "source": [
    "### Regex project\n",
    "\n",
    "Use python to read the file regex_test.txt and print the last name on each line using regular expressions and groups (return None for names with no first and last name, or names that aren't properly capitalized)\n",
    "##### Hint: use with open() and readlines()"
   ]
  },
  {
   "cell_type": "code",
   "execution_count": null,
   "metadata": {},
   "outputs": [],
   "source": [
    "\"\"\"\n",
    "Expected Output\n",
    "Abraham Lincoln\n",
    "Andrew P Garfield\n",
    "Connor Milliken\n",
    "Jordan Alexander Williams\n",
    "None\n",
    "None\n",
    "\"\"\""
   ]
  },
  {
   "cell_type": "code",
   "execution_count": 36,
   "metadata": {},
   "outputs": [
    {
     "name": "stdout",
     "output_type": "stream",
     "text": [
      "Abraham Lincoln\n",
      "Andrew P Garfield\n",
      "Connor Milliken\n",
      "Jordan Alexander Williams\n",
      "Madonna\n",
      "programming is cool\n",
      "\n"
     ]
    }
   ],
   "source": [
    "with open('regex_test.txt') as new_file:\n",
    "    data = new_file.read()\n",
    "print(data)"
   ]
  },
  {
   "cell_type": "code",
   "execution_count": 37,
   "metadata": {},
   "outputs": [],
   "source": [
    "names_pattern = re.compile(r\"\"\"\n",
    "^(?P<first_name>[A-Z][a-z])+,\\s+\n",
    "(?P<middle_name>[A-Z][a-z])*,\\s*\n",
    "(?P<last_name>[A-Z][a-z])+?$\n",
    "\"\"\", re.M|re.X)"
   ]
  },
  {
   "cell_type": "code",
   "execution_count": 38,
   "metadata": {},
   "outputs": [],
   "source": [
    "for match in names_pattern.finditer(data):\n",
    "    print(match)\n",
    "    if match.group('last_name'):\n",
    "        print('='*100)\n",
    "        name = match.group('first_name', 'middle_name', 'last_name')\n",
    "        print(name)\n",
    "    else:\n",
    "        print('='*50)\n",
    "        print(\"None\")"
   ]
  },
  {
   "cell_type": "code",
   "execution_count": null,
   "metadata": {},
   "outputs": [],
   "source": []
  }
 ],
 "metadata": {
  "kernelspec": {
   "display_name": "Python 3 (ipykernel)",
   "language": "python",
   "name": "python3"
  },
  "language_info": {
   "codemirror_mode": {
    "name": "ipython",
    "version": 3
   },
   "file_extension": ".py",
   "mimetype": "text/x-python",
   "name": "python",
   "nbconvert_exporter": "python",
   "pygments_lexer": "ipython3",
   "version": "3.9.12"
  }
 },
 "nbformat": 4,
 "nbformat_minor": 2
}
